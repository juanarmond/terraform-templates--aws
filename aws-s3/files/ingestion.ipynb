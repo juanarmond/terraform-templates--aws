{
 "cells": [
  {
   "cell_type": "code",
   "execution_count": 2,
   "id": "b6bdfd48-dd70-4272-9e5f-e4dd0367fe17",
   "metadata": {},
   "outputs": [
    {
     "name": "stdout",
     "output_type": "stream",
     "text": [
      "Looking in indexes: https://pypi.org/simple, https://pip.repos.neuron.amazonaws.com\n",
      "Requirement already satisfied: redshift_connector in /home/ec2-user/anaconda3/envs/python3/lib/python3.8/site-packages (from -r requirements.txt (line 2)) (2.0.909)\n",
      "Requirement already satisfied: botocore in /home/ec2-user/anaconda3/envs/python3/lib/python3.8/site-packages (from -r requirements.txt (line 3)) (1.27.96)\n",
      "Requirement already satisfied: aws_secretsmanager_caching in /home/ec2-user/anaconda3/envs/python3/lib/python3.8/site-packages (from -r requirements.txt (line 4)) (1.1.1.5)\n",
      "Requirement already satisfied: boto3<2.0.0,>=1.9.201 in /home/ec2-user/anaconda3/envs/python3/lib/python3.8/site-packages (from redshift_connector->-r requirements.txt (line 2)) (1.24.89)\n",
      "Requirement already satisfied: packaging in /home/ec2-user/anaconda3/envs/python3/lib/python3.8/site-packages (from redshift_connector->-r requirements.txt (line 2)) (21.3)\n",
      "Requirement already satisfied: setuptools in /home/ec2-user/anaconda3/envs/python3/lib/python3.8/site-packages (from redshift_connector->-r requirements.txt (line 2)) (59.4.0)\n",
      "Requirement already satisfied: scramp<1.5.0,>=1.2.0 in /home/ec2-user/anaconda3/envs/python3/lib/python3.8/site-packages (from redshift_connector->-r requirements.txt (line 2)) (1.4.2)\n",
      "Requirement already satisfied: lxml>=4.6.5 in /home/ec2-user/anaconda3/envs/python3/lib/python3.8/site-packages (from redshift_connector->-r requirements.txt (line 2)) (4.8.0)\n",
      "Requirement already satisfied: beautifulsoup4<5.0.0,>=4.7.0 in /home/ec2-user/anaconda3/envs/python3/lib/python3.8/site-packages (from redshift_connector->-r requirements.txt (line 2)) (4.10.0)\n",
      "Requirement already satisfied: requests<3.0.0,>=2.23.0 in /home/ec2-user/anaconda3/envs/python3/lib/python3.8/site-packages (from redshift_connector->-r requirements.txt (line 2)) (2.26.0)\n",
      "Requirement already satisfied: pytz>=2020.1 in /home/ec2-user/anaconda3/envs/python3/lib/python3.8/site-packages (from redshift_connector->-r requirements.txt (line 2)) (2021.3)\n",
      "Requirement already satisfied: urllib3<1.27,>=1.25.4 in /home/ec2-user/anaconda3/envs/python3/lib/python3.8/site-packages (from botocore->-r requirements.txt (line 3)) (1.26.8)\n",
      "Requirement already satisfied: python-dateutil<3.0.0,>=2.1 in /home/ec2-user/anaconda3/envs/python3/lib/python3.8/site-packages (from botocore->-r requirements.txt (line 3)) (2.8.2)\n",
      "Requirement already satisfied: jmespath<2.0.0,>=0.7.1 in /home/ec2-user/anaconda3/envs/python3/lib/python3.8/site-packages (from botocore->-r requirements.txt (line 3)) (0.10.0)\n",
      "Requirement already satisfied: soupsieve>1.2 in /home/ec2-user/anaconda3/envs/python3/lib/python3.8/site-packages (from beautifulsoup4<5.0.0,>=4.7.0->redshift_connector->-r requirements.txt (line 2)) (2.3)\n",
      "Requirement already satisfied: s3transfer<0.7.0,>=0.6.0 in /home/ec2-user/anaconda3/envs/python3/lib/python3.8/site-packages (from boto3<2.0.0,>=1.9.201->redshift_connector->-r requirements.txt (line 2)) (0.6.0)\n",
      "Requirement already satisfied: six>=1.5 in /home/ec2-user/anaconda3/envs/python3/lib/python3.8/site-packages (from python-dateutil<3.0.0,>=2.1->botocore->-r requirements.txt (line 3)) (1.16.0)\n",
      "Requirement already satisfied: certifi>=2017.4.17 in /home/ec2-user/anaconda3/envs/python3/lib/python3.8/site-packages (from requests<3.0.0,>=2.23.0->redshift_connector->-r requirements.txt (line 2)) (2021.10.8)\n",
      "Requirement already satisfied: charset-normalizer~=2.0.0 in /home/ec2-user/anaconda3/envs/python3/lib/python3.8/site-packages (from requests<3.0.0,>=2.23.0->redshift_connector->-r requirements.txt (line 2)) (2.0.8)\n",
      "Requirement already satisfied: idna<4,>=2.5 in /home/ec2-user/anaconda3/envs/python3/lib/python3.8/site-packages (from requests<3.0.0,>=2.23.0->redshift_connector->-r requirements.txt (line 2)) (3.1)\n",
      "Requirement already satisfied: asn1crypto>=1.5.1 in /home/ec2-user/anaconda3/envs/python3/lib/python3.8/site-packages (from scramp<1.5.0,>=1.2.0->redshift_connector->-r requirements.txt (line 2)) (1.5.1)\n",
      "Requirement already satisfied: pyparsing!=3.0.5,>=2.0.2 in /home/ec2-user/anaconda3/envs/python3/lib/python3.8/site-packages (from packaging->redshift_connector->-r requirements.txt (line 2)) (3.0.6)\n",
      "\u001b[33mWARNING: You are using pip version 22.0.4; however, version 22.3 is available.\n",
      "You should consider upgrading via the '/home/ec2-user/anaconda3/envs/python3/bin/python -m pip install --upgrade pip' command.\u001b[0m\u001b[33m\n",
      "\u001b[0mNote: you may need to restart the kernel to use updated packages.\n"
     ]
    }
   ],
   "source": [
    "pip install -r requirements.txt"
   ]
  },
  {
   "cell_type": "code",
   "execution_count": 3,
   "id": "85dfb2fc-43a4-46d5-bd4a-bf87c251490b",
   "metadata": {},
   "outputs": [],
   "source": [
    "import sys\n",
    "import redshift_connector\n",
    "import botocore \n",
    "import botocore.session \n",
    "from aws_secretsmanager_caching import SecretCache, SecretCacheConfig "
   ]
  },
  {
   "cell_type": "code",
   "execution_count": 10,
   "id": "777dd91f-4d60-48bc-8f9d-142efeadd4e8",
   "metadata": {},
   "outputs": [],
   "source": [
    "# Getting Redshift Password\n",
    "client = botocore.session.get_session().create_client('secretsmanager')\n",
    "cache_config = SecretCacheConfig()\n",
    "cache = SecretCache( config = cache_config, client = client)\n",
    "\n",
    "RS_PASSWORD = cache.get_secret_string('redshift_db_password')\n",
    "\n",
    "# CONFIGURATION\n",
    "RS_HOST = \"ds-workgroup.425768274696.eu-west-2.redshift-serverless.amazonaws.com\"\n",
    "RS_DATABASE = \"ds_redshift_db\"\n",
    "RS_USER = \"postgres\"\n",
    "RS_SCHEMA = \"public\"\n",
    "RS_TABLE = \"synthetic_data\"\n",
    "REGION = \"eu-west-1\"\n",
    "S3_BUCKET  = 'juan-test-redshift'\n",
    "S3_OBJECT  = 'test2.gz.jsonl'\n",
    "RS_IAM_ARN = \"arn:aws:iam::425768274696:role/redshift_role\"\n",
    "\n",
    "\n",
    "conn = redshift_connector.connect(\n",
    "    host=RS_HOST,\n",
    "    database=RS_DATABASE,\n",
    "    user=RS_USER,\n",
    "    password=RS_PASSWORD,\n",
    "    ssl=False\n",
    ")\n",
    "cursor = conn.cursor()"
   ]
  },
  {
   "cell_type": "code",
   "execution_count": 5,
   "id": "19354618-3f1e-4e3f-81c9-16470a6a0c8a",
   "metadata": {},
   "outputs": [
    {
     "name": "stdout",
     "output_type": "stream",
     "text": [
      "[YWOwGCai2]062nb\n"
     ]
    }
   ],
   "source": [
    "print(RS_PASSWORD)"
   ]
  },
  {
   "cell_type": "code",
   "execution_count": 12,
   "id": "5573389d-8b4d-4191-bf58-1630745d098a",
   "metadata": {},
   "outputs": [],
   "source": [
    "cursor.execute(\"set statement_timeout = 360000\")\n",
    "\n",
    "cursor.execute(f\"CREATE TABLE IF NOT EXISTS {RS_TABLE} (commons SUPER);\")\n",
    "\n",
    "cursor.execute(f\"COPY public.{RS_TABLE} from 's3://{S3_BUCKET}/{S3_OBJECT}' iam_role '{RS_IAM_ARN}' json 'noshred' GZIP REGION '{REGION}';\")\n",
    "\n",
    "conn.commit()\n",
    "cursor.close()\n",
    "conn.close()"
   ]
  },
  {
   "cell_type": "code",
   "execution_count": null,
   "id": "f2390004-ef77-45b5-92db-36b40a92fc02",
   "metadata": {},
   "outputs": [],
   "source": []
  }
 ],
 "metadata": {
  "kernelspec": {
   "display_name": "conda_python3",
   "language": "python",
   "name": "conda_python3"
  },
  "language_info": {
   "codemirror_mode": {
    "name": "ipython",
    "version": 3
   },
   "file_extension": ".py",
   "mimetype": "text/x-python",
   "name": "python",
   "nbconvert_exporter": "python",
   "pygments_lexer": "ipython3",
   "version": "3.8.12"
  }
 },
 "nbformat": 4,
 "nbformat_minor": 5
}
